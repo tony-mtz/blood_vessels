{
 "cells": [
  {
   "cell_type": "code",
   "execution_count": 46,
   "metadata": {},
   "outputs": [],
   "source": [
    "import pandas as pd\n",
    "import numpy as np\n",
    "import matplotlib.pyplot as plt\n",
    "%matplotlib inline\n",
    "\n",
    "import os\n",
    "from glob import glob\n",
    "import sys\n",
    "import random\n",
    "\n",
    "from tqdm import tqdm_notebook\n",
    "from skimage.io import imread, imshow\n",
    "from skimage.transform import resize\n",
    "\n",
    "import torch\n",
    "import torch.nn as nn\n",
    "import torch.nn.functional as F\n",
    "import torchvision.datasets as dsets\n",
    "from torch.autograd import Variable\n",
    "import cv2\n",
    "import sklearn.metrics \n",
    "from pathlib import Path"
   ]
  },
  {
   "cell_type": "code",
   "execution_count": 2,
   "metadata": {},
   "outputs": [],
   "source": [
    "class eye_dataset(torch.utils.data.Dataset):\n",
    "\n",
    "    def __init__(self,preprocessed_images, train=True, preprocessed_masks=None):\n",
    "        \"\"\"\n",
    "        Args:\n",
    "            text_file(string): path to text file\n",
    "            root_dir(string): directory with all train images\n",
    "        \"\"\"\n",
    "        self.train = train\n",
    "        self.images = preprocessed_images\n",
    "        if self.train:\n",
    "            self.masks = preprocessed_masks\n",
    "\n",
    "    def __len__(self):\n",
    "        return len(self.images)\n",
    "\n",
    "    def __getitem__(self, idx):\n",
    "        image = self.images[idx]\n",
    "        mask = None\n",
    "        if self.train:\n",
    "            mask = self.masks[idx]\n",
    "            return (image, mask)\n",
    "        return image"
   ]
  },
  {
   "cell_type": "code",
   "execution_count": 3,
   "metadata": {},
   "outputs": [],
   "source": [
    "def conv_layer(chanIn, chanOut, ks = 3, stride=1):\n",
    "    return nn.Sequential(\n",
    "        nn.Conv2d(chanIn, chanOut, ks, stride, padding=1),\n",
    "        nn.ReLU(),\n",
    "        nn.BatchNorm2d(chanOut)\n",
    "        )\n",
    "\n",
    "class Conv_block(nn.Module):\n",
    "    def __init__(self, chanIn, chanOut, pool = False):\n",
    "        super().__init__()\n",
    "        \n",
    "        self.conv1 = conv_layer(chanIn, chanOut)\n",
    "        self.conv2 = conv_layer(chanOut, chanOut)\n",
    "        \n",
    "    def forward(self, x) : \n",
    "        x = self.conv1(x)\n",
    "        x = self.conv2(x)\n",
    "        return x\n",
    "        \n",
    "class Mid_block(nn.Module):\n",
    "    def __init__(self, chanIn, chanOut, ks=3, stride=1):\n",
    "        super().__init__()        \n",
    "        self.conv1 = nn.Conv2d(chanIn, chanOut, ks, padding=1)\n",
    "        self.conv2 = nn.Conv2d(chanOut, chanOut, ks, padding=1)\n",
    "        \n",
    "    def forward(self, x) : \n",
    "        x = self.conv1(x)\n",
    "        x = self.conv2(x)\n",
    "        return x\n",
    "  \n",
    "\n",
    "class Unet(nn.Module):\n",
    "    def __init__(self):\n",
    "        super(Unet, self).__init__()\n",
    "        \n",
    "        self.down1 = Conv_block(1,16)\n",
    "        self.down2 = Conv_block(16, 32)\n",
    "        self.down3 = Conv_block(32,64)\n",
    "        self.down4 = Conv_block(64,128)\n",
    "        \n",
    "        self.mid = Mid_block(128,256)\n",
    "        \n",
    "        self.upt3 = nn.ConvTranspose2d(256,128,2,2)\n",
    "        self.up3 =Conv_block(256,128)\n",
    "        self.upt2 = nn.ConvTranspose2d(128, 64,2,2)\n",
    "        self.up2 = Conv_block(128,64)\n",
    "        self.upt1 = nn.ConvTranspose2d(64, 32,2,2)\n",
    "        self.up1 = Conv_block(64,32)\n",
    "        self.upt0 = nn.ConvTranspose2d(32, 16,2,2)\n",
    "        self.up0 = Conv_block(32,16)\n",
    "        self.last = nn.Conv2d(16,1,1)\n",
    "        \n",
    "        self.maxPool = nn.MaxPool2d(2)\n",
    "        self.dropout = nn.Dropout2d(p=.25, inplace=True)\n",
    "        \n",
    "    \n",
    "    def forward(self, x):\n",
    "        x1 = self.down1(x)\n",
    "        p1 = self.maxPool(x1)\n",
    "        p1 = self.dropout(p1)\n",
    "        \n",
    "        x2 = self.down2(p1)\n",
    "        p2 = self.maxPool(x2)\n",
    "        p2 = self.dropout(p2)\n",
    "        \n",
    "        x3 = self.down3(p2)\n",
    "        p3 = self.maxPool(x3)\n",
    "        p3 = self.dropout(p3)\n",
    "        \n",
    "        x4 = self.down4(p3)\n",
    "        p4 = self.maxPool(x4)\n",
    "        p4 = self.dropout(p4)\n",
    "        \n",
    "        xmid = self.mid(p4)\n",
    "        \n",
    "        xu3 = self.upt3(xmid)\n",
    "        cat3 = torch.cat([x4, xu3],1) #x4,xu3\n",
    "        xu3 = self.up3(cat3)\n",
    "        \n",
    "        xu2 = self.upt2(xu3)\n",
    "        cat2 = torch.cat([x3, xu2],1)\n",
    "        xu2 = self.up2(cat2)\n",
    "                \n",
    "        xu1 = self.upt1(xu2)\n",
    "        cat1 = torch.cat([x2,xu1],1)\n",
    "        xu1 = self.up1(cat1)\n",
    "        \n",
    "        xu0 = self.upt0(xu1)\n",
    "        cat0 = torch.cat([x1,xu0],1)\n",
    "        xu0 = self.up0(cat0)\n",
    "        return self.last(xu0)"
   ]
  },
  {
   "cell_type": "code",
   "execution_count": 4,
   "metadata": {},
   "outputs": [],
   "source": [
    "test_path = Path('data/DRIVE/test/images_gray/')\n",
    "test_mask = Path('data/DRIVE/test/1st_manual/')\n",
    "test_img_names = []\n",
    "test_mask_names = []\n",
    "for test_img, test_mask in zip(test_path.iterdir(), test_mask.iterdir()):\n",
    "    test_img_names.append(str(test_img))\n",
    "    test_mask_names.append(str(test_mask))\n",
    "test_img_names.sort()\n",
    "test_mask_names.sort()"
   ]
  },
  {
   "cell_type": "code",
   "execution_count": 5,
   "metadata": {},
   "outputs": [
    {
     "data": {
      "application/vnd.jupyter.widget-view+json": {
       "model_id": "5c8914743d42499c91e8800c608a2822",
       "version_major": 2,
       "version_minor": 0
      },
      "text/plain": [
       "HBox(children=(IntProgress(value=0, max=20), HTML(value='')))"
      ]
     },
     "metadata": {},
     "output_type": "display_data"
    },
    {
     "name": "stdout",
     "output_type": "stream",
     "text": [
      "\n"
     ]
    }
   ],
   "source": [
    "im_width = 560\n",
    "im_height = 560\n",
    "\n",
    "X_test = np.zeros((20, im_height, im_width, 1), dtype=np.uint8)\n",
    "\n",
    "for i in tqdm_notebook(range(20)):\n",
    "    \n",
    "    #resize for test images\n",
    "    test_img = imread(test_img_names[i])\n",
    "    test_img = test_img[20:580,4:564]\n",
    "    #test_img = resize(test_img, (im_height, im_width, 1), mode='constant', preserve_range=True)\n",
    "    test_img = np.expand_dims(test_img, axis=2)\n",
    "    X_test[i] = test_img"
   ]
  },
  {
   "cell_type": "code",
   "execution_count": 6,
   "metadata": {},
   "outputs": [
    {
     "data": {
      "image/png": "[encoded data removed]",
      "text/plain": [
       "<Figure size 432x288 with 1 Axes>"
      ]
     },
     "metadata": {},
     "output_type": "display_data"
    }
   ],
   "source": [
    "#resized images\n",
    "ix = 9\n",
    "plt.imshow(np.dstack((X_test[ix],X_test[ix],X_test[ix])))\n",
    "plt.show()\n",
    "# tmp = np.squeeze(Y_train[ix]).astype(np.float32)\n",
    "# plt.imshow(np.dstack((tmp,tmp,tmp)))\n",
    "# plt.show()"
   ]
  },
  {
   "cell_type": "code",
   "execution_count": 7,
   "metadata": {},
   "outputs": [],
   "source": [
    "X_test_shaped = X_test.reshape(-1,1, 560, 560)/255\n",
    "X_test_shaped = X_test_shaped.astype(np.float32)"
   ]
  },
  {
   "cell_type": "code",
   "execution_count": 33,
   "metadata": {},
   "outputs": [],
   "source": [
    "eye_test_dataset = eye_dataset(X_test_shaped[14:20], train=False)\n",
    "test_loader = torch.utils.data.DataLoader(dataset=eye_test_dataset, batch_size=1,\n",
    "                                         shuffle=False)"
   ]
  },
  {
   "cell_type": "code",
   "execution_count": 9,
   "metadata": {},
   "outputs": [
    {
     "data": {
      "text/plain": [
       "Unet(\n",
       "  (down1): Conv_block(\n",
       "    (conv1): Sequential(\n",
       "      (0): Conv2d(1, 16, kernel_size=(3, 3), stride=(1, 1), padding=(1, 1))\n",
       "      (1): ReLU()\n",
       "      (2): BatchNorm2d(16, eps=1e-05, momentum=0.1, affine=True, track_running_stats=True)\n",
       "    )\n",
       "    (conv2): Sequential(\n",
       "      (0): Conv2d(16, 16, kernel_size=(3, 3), stride=(1, 1), padding=(1, 1))\n",
       "      (1): ReLU()\n",
       "      (2): BatchNorm2d(16, eps=1e-05, momentum=0.1, affine=True, track_running_stats=True)\n",
       "    )\n",
       "  )\n",
       "  (down2): Conv_block(\n",
       "    (conv1): Sequential(\n",
       "      (0): Conv2d(16, 32, kernel_size=(3, 3), stride=(1, 1), padding=(1, 1))\n",
       "      (1): ReLU()\n",
       "      (2): BatchNorm2d(32, eps=1e-05, momentum=0.1, affine=True, track_running_stats=True)\n",
       "    )\n",
       "    (conv2): Sequential(\n",
       "      (0): Conv2d(32, 32, kernel_size=(3, 3), stride=(1, 1), padding=(1, 1))\n",
       "      (1): ReLU()\n",
       "      (2): BatchNorm2d(32, eps=1e-05, momentum=0.1, affine=True, track_running_stats=True)\n",
       "    )\n",
       "  )\n",
       "  (down3): Conv_block(\n",
       "    (conv1): Sequential(\n",
       "      (0): Conv2d(32, 64, kernel_size=(3, 3), stride=(1, 1), padding=(1, 1))\n",
       "      (1): ReLU()\n",
       "      (2): BatchNorm2d(64, eps=1e-05, momentum=0.1, affine=True, track_running_stats=True)\n",
       "    )\n",
       "    (conv2): Sequential(\n",
       "      (0): Conv2d(64, 64, kernel_size=(3, 3), stride=(1, 1), padding=(1, 1))\n",
       "      (1): ReLU()\n",
       "      (2): BatchNorm2d(64, eps=1e-05, momentum=0.1, affine=True, track_running_stats=True)\n",
       "    )\n",
       "  )\n",
       "  (down4): Conv_block(\n",
       "    (conv1): Sequential(\n",
       "      (0): Conv2d(64, 128, kernel_size=(3, 3), stride=(1, 1), padding=(1, 1))\n",
       "      (1): ReLU()\n",
       "      (2): BatchNorm2d(128, eps=1e-05, momentum=0.1, affine=True, track_running_stats=True)\n",
       "    )\n",
       "    (conv2): Sequential(\n",
       "      (0): Conv2d(128, 128, kernel_size=(3, 3), stride=(1, 1), padding=(1, 1))\n",
       "      (1): ReLU()\n",
       "      (2): BatchNorm2d(128, eps=1e-05, momentum=0.1, affine=True, track_running_stats=True)\n",
       "    )\n",
       "  )\n",
       "  (mid): Mid_block(\n",
       "    (conv1): Conv2d(128, 256, kernel_size=(3, 3), stride=(1, 1), padding=(1, 1))\n",
       "    (conv2): Conv2d(256, 256, kernel_size=(3, 3), stride=(1, 1), padding=(1, 1))\n",
       "  )\n",
       "  (upt3): ConvTranspose2d(256, 128, kernel_size=(2, 2), stride=(2, 2))\n",
       "  (up3): Conv_block(\n",
       "    (conv1): Sequential(\n",
       "      (0): Conv2d(256, 128, kernel_size=(3, 3), stride=(1, 1), padding=(1, 1))\n",
       "      (1): ReLU()\n",
       "      (2): BatchNorm2d(128, eps=1e-05, momentum=0.1, affine=True, track_running_stats=True)\n",
       "    )\n",
       "    (conv2): Sequential(\n",
       "      (0): Conv2d(128, 128, kernel_size=(3, 3), stride=(1, 1), padding=(1, 1))\n",
       "      (1): ReLU()\n",
       "      (2): BatchNorm2d(128, eps=1e-05, momentum=0.1, affine=True, track_running_stats=True)\n",
       "    )\n",
       "  )\n",
       "  (upt2): ConvTranspose2d(128, 64, kernel_size=(2, 2), stride=(2, 2))\n",
       "  (up2): Conv_block(\n",
       "    (conv1): Sequential(\n",
       "      (0): Conv2d(128, 64, kernel_size=(3, 3), stride=(1, 1), padding=(1, 1))\n",
       "      (1): ReLU()\n",
       "      (2): BatchNorm2d(64, eps=1e-05, momentum=0.1, affine=True, track_running_stats=True)\n",
       "    )\n",
       "    (conv2): Sequential(\n",
       "      (0): Conv2d(64, 64, kernel_size=(3, 3), stride=(1, 1), padding=(1, 1))\n",
       "      (1): ReLU()\n",
       "      (2): BatchNorm2d(64, eps=1e-05, momentum=0.1, affine=True, track_running_stats=True)\n",
       "    )\n",
       "  )\n",
       "  (upt1): ConvTranspose2d(64, 32, kernel_size=(2, 2), stride=(2, 2))\n",
       "  (up1): Conv_block(\n",
       "    (conv1): Sequential(\n",
       "      (0): Conv2d(64, 32, kernel_size=(3, 3), stride=(1, 1), padding=(1, 1))\n",
       "      (1): ReLU()\n",
       "      (2): BatchNorm2d(32, eps=1e-05, momentum=0.1, affine=True, track_running_stats=True)\n",
       "    )\n",
       "    (conv2): Sequential(\n",
       "      (0): Conv2d(32, 32, kernel_size=(3, 3), stride=(1, 1), padding=(1, 1))\n",
       "      (1): ReLU()\n",
       "      (2): BatchNorm2d(32, eps=1e-05, momentum=0.1, affine=True, track_running_stats=True)\n",
       "    )\n",
       "  )\n",
       "  (upt0): ConvTranspose2d(32, 16, kernel_size=(2, 2), stride=(2, 2))\n",
       "  (up0): Conv_block(\n",
       "    (conv1): Sequential(\n",
       "      (0): Conv2d(32, 16, kernel_size=(3, 3), stride=(1, 1), padding=(1, 1))\n",
       "      (1): ReLU()\n",
       "      (2): BatchNorm2d(16, eps=1e-05, momentum=0.1, affine=True, track_running_stats=True)\n",
       "    )\n",
       "    (conv2): Sequential(\n",
       "      (0): Conv2d(16, 16, kernel_size=(3, 3), stride=(1, 1), padding=(1, 1))\n",
       "      (1): ReLU()\n",
       "      (2): BatchNorm2d(16, eps=1e-05, momentum=0.1, affine=True, track_running_stats=True)\n",
       "    )\n",
       "  )\n",
       "  (last): Conv2d(16, 1, kernel_size=(1, 1), stride=(1, 1))\n",
       "  (maxPool): MaxPool2d(kernel_size=2, stride=2, padding=0, dilation=1, ceil_mode=False)\n",
       "  (dropout): Dropout2d(p=0.25, inplace)\n",
       ")"
      ]
     },
     "execution_count": 9,
     "metadata": {},
     "output_type": "execute_result"
    }
   ],
   "source": [
    "model = Unet()\n",
    "model.cuda()\n",
    "state_dict = torch.load('data/eyeResults/res_unetAgam_c180_1.pth')\n",
    "model.load_state_dict(state_dict)\n",
    "model.eval()"
   ]
  },
  {
   "cell_type": "code",
   "execution_count": 34,
   "metadata": {},
   "outputs": [],
   "source": [
    "res = []\n",
    "for im in test_loader:\n",
    "    image = Variable(im.type(torch.FloatTensor).cuda())\n",
    "    #image = image.unsqueeze(0)\n",
    "    y_pred = model(image)\n",
    "    res.append(y_pred)\n"
   ]
  },
  {
   "cell_type": "code",
   "execution_count": 23,
   "metadata": {},
   "outputs": [],
   "source": [
    "def res_show(img, idx):\n",
    "    result = img.reshape(560,560,-1)\n",
    "    result = result.data.cpu().numpy()\n",
    "    result = np.squeeze(result>.3).astype(np.float32)*255\n",
    "#     x = resize(result, (584, 565, 1), mode='constant', preserve_range=True)\n",
    "#     x = np.squeeze(x).astype(np.float32)\n",
    "    fig = plt.figure(figsize=(10,10))\n",
    "    ax1 = fig.add_subplot(111)\n",
    "    ax1.imshow(np.dstack((result,result,result)))\n",
    "    \n",
    "    topBorderWidth =20\n",
    "    bottomBorderWidth =4\n",
    "    leftBorderWidth =4\n",
    "    rightBorderWidth=1\n",
    "    outputImage = cv2.copyMakeBorder(\n",
    "                 np.dstack((result,result,result)), \n",
    "                 topBorderWidth, \n",
    "                 bottomBorderWidth, \n",
    "                 leftBorderWidth, \n",
    "                 rightBorderWidth, \n",
    "                 cv2.BORDER_CONSTANT, \n",
    "                 value=0\n",
    "              )\n",
    "    \n",
    "    path_res = 'data/DRIVE/res_1/'+str(idx)+'_res_mask.png'\n",
    "    cv2.imwrite(path_res, outputImage)\n",
    "    plt.show()\n",
    "#res_show(res[0][0])"
   ]
  },
  {
   "cell_type": "code",
   "execution_count": 40,
   "metadata": {},
   "outputs": [
    {
     "name": "stderr",
     "output_type": "stream",
     "text": [
      "Clipping input data to the valid range for imshow with RGB data ([0..1] for floats or [0..255] for integers).\n"
     ]
    },
    {
     "data": {
      "image/png": "[encoded data removed]",
      "text/plain": [
       "<Figure size 720x720 with 1 Axes>"
      ]
     },
     "metadata": {},
     "output_type": "display_data"
    }
   ],
   "source": [
    "res_show(res[5][0],20)"
   ]
  },
  {
   "cell_type": "code",
   "execution_count": 138,
   "metadata": {},
   "outputs": [
    {
     "ename": "NameError",
     "evalue": "name 'figsize' is not defined",
     "output_type": "error",
     "traceback": [
      "\u001b[0;31m---------------------------------------------------------------------------\u001b[0m",
      "\u001b[0;31mNameError\u001b[0m                                 Traceback (most recent call last)",
      "\u001b[0;32m<ipython-input-138-87fa675f51a8>\u001b[0m in \u001b[0;36m<module>\u001b[0;34m()\u001b[0m\n\u001b[1;32m      3\u001b[0m \u001b[0mtrue_y\u001b[0m \u001b[0;34m=\u001b[0m \u001b[0mtrue_img1\u001b[0m\u001b[0;34m.\u001b[0m\u001b[0mflatten\u001b[0m\u001b[0;34m(\u001b[0m\u001b[0;34m)\u001b[0m\u001b[0;34m\u001b[0m\u001b[0m\n\u001b[1;32m      4\u001b[0m \u001b[0mimg_flat\u001b[0m \u001b[0;34m=\u001b[0m \u001b[0mimg1\u001b[0m\u001b[0;34m.\u001b[0m\u001b[0mflatten\u001b[0m\u001b[0;34m(\u001b[0m\u001b[0;34m)\u001b[0m\u001b[0;34m\u001b[0m\u001b[0m\n\u001b[0;32m----> 5\u001b[0;31m \u001b[0mplt\u001b[0m\u001b[0;34m.\u001b[0m\u001b[0maxes\u001b[0m \u001b[0;34m=\u001b[0m \u001b[0mfigsize\u001b[0m\u001b[0;34m(\u001b[0m\u001b[0;36m10\u001b[0m\u001b[0;34m,\u001b[0m\u001b[0;36m10\u001b[0m\u001b[0;34m)\u001b[0m\u001b[0;34m\u001b[0m\u001b[0m\n\u001b[0m\u001b[1;32m      6\u001b[0m \u001b[0mplt\u001b[0m\u001b[0;34m.\u001b[0m\u001b[0mimshow\u001b[0m\u001b[0;34m(\u001b[0m\u001b[0mimg1\u001b[0m\u001b[0;34m)\u001b[0m\u001b[0;34m\u001b[0m\u001b[0m\n\u001b[1;32m      7\u001b[0m \u001b[0mimg1\u001b[0m\u001b[0;34m.\u001b[0m\u001b[0mshape\u001b[0m\u001b[0;34m\u001b[0m\u001b[0m\n",
      "\u001b[0;31mNameError\u001b[0m: name 'figsize' is not defined"
     ]
    }
   ],
   "source": [
    "img1 = cv2.imread('data/DRIVE/res_1/12_res_mask.png', cv2.IMREAD_GRAYSCALE)\n",
    "true_img1 = cv2.imread('data/DRIVE/test/1st_manual/12_manual1.jpg', cv2.IMREAD_GRAYSCALE)\n",
    "true_y = true_img1.flatten()\n",
    "img_flat = img1.flatten()\n",
    "plt.axes = figsize(10,10)\n",
    "plt.imshow(img1)\n",
    "img1.shape"
   ]
  },
  {
   "cell_type": "code",
   "execution_count": 134,
   "metadata": {},
   "outputs": [],
   "source": [
    "for i in range(len(true_y)):\n",
    "    if true_y[i] >100:\n",
    "        true_y[i] =1\n",
    "    else:\n",
    "        true_y[i] =0\n",
    "    if img_flat[i] >250:\n",
    "        img_flat[i] =1\n",
    "    else:\n",
    "        img_flat[i] =0"
   ]
  },
  {
   "cell_type": "code",
   "execution_count": 135,
   "metadata": {},
   "outputs": [
    {
     "name": "stdout",
     "output_type": "stream",
     "text": [
      "0.9704873317977937\n"
     ]
    }
   ],
   "source": [
    "count = 0\n",
    "for i in range(len(true_y)):\n",
    "    if true_y[i] == img_flat[i]:\n",
    "        count +=1\n",
    "print(count/len(true_y))"
   ]
  },
  {
   "cell_type": "code",
   "execution_count": 136,
   "metadata": {},
   "outputs": [],
   "source": [
    "fpr, tpr, thresholds = sklearn.metrics.roc_curve(true_y, img_flat, pos_label=1)\n",
    "roc_auc = sklearn.metrics.auc(fpr, tpr)"
   ]
  },
  {
   "cell_type": "code",
   "execution_count": 137,
   "metadata": {},
   "outputs": [
    {
     "name": "stdout",
     "output_type": "stream",
     "text": [
      "0.8741025940249743\n"
     ]
    }
   ],
   "source": [
    "print(roc_auc)"
   ]
  },
  {
   "cell_type": "code",
   "execution_count": null,
   "metadata": {},
   "outputs": [],
   "source": []
  }
 ],
 "metadata": {
  "kernelspec": {
   "display_name": "Python 3",
   "language": "python",
   "name": "python3"
  },
  "language_info": {
   "codemirror_mode": {
    "name": "ipython",
    "version": 3
   },
   "file_extension": ".py",
   "mimetype": "text/x-python",
   "name": "python",
   "nbconvert_exporter": "python",
   "pygments_lexer": "ipython3",
   "version": "3.7.0"
  }
 },
 "nbformat": 4,
 "nbformat_minor": 2
}
